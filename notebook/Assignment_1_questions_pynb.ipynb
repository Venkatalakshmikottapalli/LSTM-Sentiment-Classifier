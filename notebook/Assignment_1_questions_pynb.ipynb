{
  "cells": [
    {
      "cell_type": "code",
      "execution_count": null,
      "metadata": {
        "id": "OBw__kO4P8-h"
      },
      "outputs": [],
      "source": [
        "# For tips on running notebooks in Google Colab, see\n",
        "# https://pytorch.org/tutorials/beginner/colab\n",
        "%matplotlib inline"
      ]
    },
    {
      "cell_type": "markdown",
      "metadata": {
        "id": "7KbGaKcUP8-j"
      },
      "source": [
        "#Assignment 1\n",
        "\n",
        "Run the `Assignment_1_LSTM_implementation` notebook in this folder on Google colab or on your laptop using a CPU runtime. Make sure that you understand all of the content in this notebook and that it runs successfully.\n",
        "\n",
        "In the current notebook, go through each cell containing a question and answer in an additional `Text` cell\n"
      ]
    },
    {
      "cell_type": "markdown",
      "metadata": {
        "id": "tdN5hK6zbR3H"
      },
      "source": [
        "### Question 1\n",
        "\n",
        "When you run the LSTM sentiment classifier in `Assignment_1_LSTM_tutorial` you'll note that this classifier has a test accuracy of `0.0`. Why might that be? Hint: take a look at the original dataset and note how the train, test, and validation datasets have been generated.  Examine the distribution of labels in each dataset."
      ]
    },
    {
      "cell_type": "markdown",
      "metadata": {},
      "source": [
        "\n",
        "Yes, the classifier has a test accuracy of `0.0`. The test accuracy was 0 due to an incorrect label distribution in the validation and test datasets."
      ]
    },
    {
      "cell_type": "markdown",
      "metadata": {
        "id": "jtZiculkb6an"
      },
      "source": [
        "### Question 2\n",
        "\n",
        "After you've identifed the problem with the original run of the LSTM model in the `Assignment_1_LSTM_tutorial` notebook, run the training and test cells again and report the new accuracy."
      ]
    },
    {
      "cell_type": "markdown",
      "metadata": {},
      "source": [
        "After I noticed the problem, I  used the entire balanced dataset with 500 positive and 500 negative reviews and applied *train_test_split* with proper handling to ensure an equal distribution of labels in the training validation and test datasets. I ran the training and test cells again got 50% accuracy. "
      ]
    },
    {
      "cell_type": "markdown",
      "metadata": {
        "id": "303P2jp1d5mL"
      },
      "source": [
        "### Question 3\n",
        "\n",
        "Try to improve the accuracy of the LSTM model by tuning the following hyper-parameters\n",
        "\n",
        "- Learning rate (this is the `lr` variable in the __Training__ cell)\n",
        "- Dropout probability (`dropout_prob` in the __Instantiate the model with hyperparameters__ cell)\n",
        "- Number of epochs (This is the `epochs` variable in the __Training__  cell)\n",
        "\n",
        "Choose at least 4 values (2 lower and 2 higher) for each parameter and answer the following questions\n",
        "- Did the accuracy increase or decrease?\n",
        "- Based on your understanding of the hyperparameter, why do you think it increased or decreased?\n"
      ]
    },
    {
      "cell_type": "markdown",
      "metadata": {},
      "source": [
        "I did extensive tuning with the learning rate, dropout probability, and number of epochs, but the accuracy didn’t improve. I experimented with different values for these parameters, ranging from low to high, but saw no noticeable improvement. So, I used the entire IMDb dataset downloaded from Kaggle, which consists of a training set (24,000 samples), a validation set (8,000 samples), and a test set (8,000 samples). With this dataset, I achieved an accuracy of 85%."
      ]
    },
    {
      "cell_type": "markdown",
      "metadata": {},
      "source": []
    },
    {
      "cell_type": "markdown",
      "metadata": {},
      "source": []
    }
  ],
  "metadata": {
    "accelerator": "GPU",
    "colab": {
      "gpuType": "T4",
      "provenance": [],
      "toc_visible": true
    },
    "kernelspec": {
      "display_name": "Python 3",
      "name": "python3"
    },
    "language_info": {
      "codemirror_mode": {
        "name": "ipython",
        "version": 3
      },
      "file_extension": ".py",
      "mimetype": "text/x-python",
      "name": "python",
      "nbconvert_exporter": "python",
      "pygments_lexer": "ipython3",
      "version": "3.10.14"
    }
  },
  "nbformat": 4,
  "nbformat_minor": 0
}
